{
 "cells": [
  {
   "cell_type": "markdown",
   "id": "5a88c453",
   "metadata": {},
   "source": [
    "Here is the class - https://learn.deeplearning.ai/courses/ai-agents-in-langgraph/lesson/m0x4m/essay-writer"
   ]
  }
 ],
 "metadata": {
  "language_info": {
   "name": "python"
  }
 },
 "nbformat": 4,
 "nbformat_minor": 5
}
