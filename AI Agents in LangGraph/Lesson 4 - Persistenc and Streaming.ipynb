{
 "cells": [
  {
   "cell_type": "code",
   "execution_count": 4,
   "id": "fd4127b4",
   "metadata": {},
   "outputs": [],
   "source": [
    "from dotenv import load_dotenv\n",
    "_ = load_dotenv()\n",
    "from langgraph.graph import StateGraph, END\n",
    "from typing import TypedDict, Annotated\n",
    "import operator\n",
    "from langchain_core.messages import AnyMessage, SystemMessage, HumanMessage, ToolMessage\n",
    "from langchain_openai import ChatOpenAI\n",
    "from langchain_community.tools.tavily_search import TavilySearchResults\n",
    "\n",
    "tool = TavilySearchResults(max_results=2)\n",
    "\n",
    "class AgentState(TypedDict):\n",
    "    messages: Annotated[list[AnyMessage], operator.add]"
   ]
  },
  {
   "cell_type": "code",
   "execution_count": 5,
   "id": "533c32fd",
   "metadata": {},
   "outputs": [
    {
     "name": "stdout",
     "output_type": "stream",
     "text": [
      "Requirement already satisfied: langgraph.checkpoint.sqlite in c:\\coderepositories\\2025\\deeplearning.ai\\ai agents in langgraph\\.venv\\lib\\site-packages (2.0.10)\n",
      "Requirement already satisfied: aiosqlite>=0.20 in c:\\coderepositories\\2025\\deeplearning.ai\\ai agents in langgraph\\.venv\\lib\\site-packages (from langgraph.checkpoint.sqlite) (0.21.0)\n",
      "Requirement already satisfied: langgraph-checkpoint>=2.0.21 in c:\\coderepositories\\2025\\deeplearning.ai\\ai agents in langgraph\\.venv\\lib\\site-packages (from langgraph.checkpoint.sqlite) (2.0.26)\n",
      "Requirement already satisfied: sqlite-vec>=0.1.6 in c:\\coderepositories\\2025\\deeplearning.ai\\ai agents in langgraph\\.venv\\lib\\site-packages (from langgraph.checkpoint.sqlite) (0.1.6)\n",
      "Requirement already satisfied: typing_extensions>=4.0 in c:\\coderepositories\\2025\\deeplearning.ai\\ai agents in langgraph\\.venv\\lib\\site-packages (from aiosqlite>=0.20->langgraph.checkpoint.sqlite) (4.13.2)\n",
      "Requirement already satisfied: langchain-core>=0.2.38 in c:\\coderepositories\\2025\\deeplearning.ai\\ai agents in langgraph\\.venv\\lib\\site-packages (from langgraph-checkpoint>=2.0.21->langgraph.checkpoint.sqlite) (0.3.61)\n",
      "Requirement already satisfied: ormsgpack<2.0.0,>=1.8.0 in c:\\coderepositories\\2025\\deeplearning.ai\\ai agents in langgraph\\.venv\\lib\\site-packages (from langgraph-checkpoint>=2.0.21->langgraph.checkpoint.sqlite) (1.10.0)\n",
      "Requirement already satisfied: langsmith<0.4,>=0.1.126 in c:\\coderepositories\\2025\\deeplearning.ai\\ai agents in langgraph\\.venv\\lib\\site-packages (from langchain-core>=0.2.38->langgraph-checkpoint>=2.0.21->langgraph.checkpoint.sqlite) (0.3.42)\n",
      "Requirement already satisfied: tenacity!=8.4.0,<10.0.0,>=8.1.0 in c:\\coderepositories\\2025\\deeplearning.ai\\ai agents in langgraph\\.venv\\lib\\site-packages (from langchain-core>=0.2.38->langgraph-checkpoint>=2.0.21->langgraph.checkpoint.sqlite) (9.1.2)\n",
      "Requirement already satisfied: jsonpatch<2.0,>=1.33 in c:\\coderepositories\\2025\\deeplearning.ai\\ai agents in langgraph\\.venv\\lib\\site-packages (from langchain-core>=0.2.38->langgraph-checkpoint>=2.0.21->langgraph.checkpoint.sqlite) (1.33)\n",
      "Requirement already satisfied: PyYAML>=5.3 in c:\\coderepositories\\2025\\deeplearning.ai\\ai agents in langgraph\\.venv\\lib\\site-packages (from langchain-core>=0.2.38->langgraph-checkpoint>=2.0.21->langgraph.checkpoint.sqlite) (6.0.2)\n",
      "Requirement already satisfied: packaging<25,>=23.2 in c:\\coderepositories\\2025\\deeplearning.ai\\ai agents in langgraph\\.venv\\lib\\site-packages (from langchain-core>=0.2.38->langgraph-checkpoint>=2.0.21->langgraph.checkpoint.sqlite) (24.2)\n",
      "Requirement already satisfied: pydantic>=2.7.4 in c:\\coderepositories\\2025\\deeplearning.ai\\ai agents in langgraph\\.venv\\lib\\site-packages (from langchain-core>=0.2.38->langgraph-checkpoint>=2.0.21->langgraph.checkpoint.sqlite) (2.11.4)\n",
      "Requirement already satisfied: jsonpointer>=1.9 in c:\\coderepositories\\2025\\deeplearning.ai\\ai agents in langgraph\\.venv\\lib\\site-packages (from jsonpatch<2.0,>=1.33->langchain-core>=0.2.38->langgraph-checkpoint>=2.0.21->langgraph.checkpoint.sqlite) (3.0.0)\n",
      "Requirement already satisfied: httpx<1,>=0.23.0 in c:\\coderepositories\\2025\\deeplearning.ai\\ai agents in langgraph\\.venv\\lib\\site-packages (from langsmith<0.4,>=0.1.126->langchain-core>=0.2.38->langgraph-checkpoint>=2.0.21->langgraph.checkpoint.sqlite) (0.28.1)\n",
      "Requirement already satisfied: orjson<4.0.0,>=3.9.14 in c:\\coderepositories\\2025\\deeplearning.ai\\ai agents in langgraph\\.venv\\lib\\site-packages (from langsmith<0.4,>=0.1.126->langchain-core>=0.2.38->langgraph-checkpoint>=2.0.21->langgraph.checkpoint.sqlite) (3.10.18)\n",
      "Requirement already satisfied: requests<3,>=2 in c:\\coderepositories\\2025\\deeplearning.ai\\ai agents in langgraph\\.venv\\lib\\site-packages (from langsmith<0.4,>=0.1.126->langchain-core>=0.2.38->langgraph-checkpoint>=2.0.21->langgraph.checkpoint.sqlite) (2.32.3)\n",
      "Requirement already satisfied: requests-toolbelt<2.0.0,>=1.0.0 in c:\\coderepositories\\2025\\deeplearning.ai\\ai agents in langgraph\\.venv\\lib\\site-packages (from langsmith<0.4,>=0.1.126->langchain-core>=0.2.38->langgraph-checkpoint>=2.0.21->langgraph.checkpoint.sqlite) (1.0.0)\n",
      "Requirement already satisfied: zstandard<0.24.0,>=0.23.0 in c:\\coderepositories\\2025\\deeplearning.ai\\ai agents in langgraph\\.venv\\lib\\site-packages (from langsmith<0.4,>=0.1.126->langchain-core>=0.2.38->langgraph-checkpoint>=2.0.21->langgraph.checkpoint.sqlite) (0.23.0)\n",
      "Requirement already satisfied: anyio in c:\\coderepositories\\2025\\deeplearning.ai\\ai agents in langgraph\\.venv\\lib\\site-packages (from httpx<1,>=0.23.0->langsmith<0.4,>=0.1.126->langchain-core>=0.2.38->langgraph-checkpoint>=2.0.21->langgraph.checkpoint.sqlite) (4.9.0)\n",
      "Requirement already satisfied: certifi in c:\\coderepositories\\2025\\deeplearning.ai\\ai agents in langgraph\\.venv\\lib\\site-packages (from httpx<1,>=0.23.0->langsmith<0.4,>=0.1.126->langchain-core>=0.2.38->langgraph-checkpoint>=2.0.21->langgraph.checkpoint.sqlite) (2025.4.26)\n",
      "Requirement already satisfied: httpcore==1.* in c:\\coderepositories\\2025\\deeplearning.ai\\ai agents in langgraph\\.venv\\lib\\site-packages (from httpx<1,>=0.23.0->langsmith<0.4,>=0.1.126->langchain-core>=0.2.38->langgraph-checkpoint>=2.0.21->langgraph.checkpoint.sqlite) (1.0.9)\n",
      "Requirement already satisfied: idna in c:\\coderepositories\\2025\\deeplearning.ai\\ai agents in langgraph\\.venv\\lib\\site-packages (from httpx<1,>=0.23.0->langsmith<0.4,>=0.1.126->langchain-core>=0.2.38->langgraph-checkpoint>=2.0.21->langgraph.checkpoint.sqlite) (3.10)\n",
      "Requirement already satisfied: h11>=0.16 in c:\\coderepositories\\2025\\deeplearning.ai\\ai agents in langgraph\\.venv\\lib\\site-packages (from httpcore==1.*->httpx<1,>=0.23.0->langsmith<0.4,>=0.1.126->langchain-core>=0.2.38->langgraph-checkpoint>=2.0.21->langgraph.checkpoint.sqlite) (0.16.0)\n",
      "Requirement already satisfied: annotated-types>=0.6.0 in c:\\coderepositories\\2025\\deeplearning.ai\\ai agents in langgraph\\.venv\\lib\\site-packages (from pydantic>=2.7.4->langchain-core>=0.2.38->langgraph-checkpoint>=2.0.21->langgraph.checkpoint.sqlite) (0.7.0)\n",
      "Requirement already satisfied: pydantic-core==2.33.2 in c:\\coderepositories\\2025\\deeplearning.ai\\ai agents in langgraph\\.venv\\lib\\site-packages (from pydantic>=2.7.4->langchain-core>=0.2.38->langgraph-checkpoint>=2.0.21->langgraph.checkpoint.sqlite) (2.33.2)\n",
      "Requirement already satisfied: typing-inspection>=0.4.0 in c:\\coderepositories\\2025\\deeplearning.ai\\ai agents in langgraph\\.venv\\lib\\site-packages (from pydantic>=2.7.4->langchain-core>=0.2.38->langgraph-checkpoint>=2.0.21->langgraph.checkpoint.sqlite) (0.4.0)\n",
      "Requirement already satisfied: charset-normalizer<4,>=2 in c:\\coderepositories\\2025\\deeplearning.ai\\ai agents in langgraph\\.venv\\lib\\site-packages (from requests<3,>=2->langsmith<0.4,>=0.1.126->langchain-core>=0.2.38->langgraph-checkpoint>=2.0.21->langgraph.checkpoint.sqlite) (3.4.2)\n",
      "Requirement already satisfied: urllib3<3,>=1.21.1 in c:\\coderepositories\\2025\\deeplearning.ai\\ai agents in langgraph\\.venv\\lib\\site-packages (from requests<3,>=2->langsmith<0.4,>=0.1.126->langchain-core>=0.2.38->langgraph-checkpoint>=2.0.21->langgraph.checkpoint.sqlite) (2.4.0)\n",
      "Requirement already satisfied: sniffio>=1.1 in c:\\coderepositories\\2025\\deeplearning.ai\\ai agents in langgraph\\.venv\\lib\\site-packages (from anyio->httpx<1,>=0.23.0->langsmith<0.4,>=0.1.126->langchain-core>=0.2.38->langgraph-checkpoint>=2.0.21->langgraph.checkpoint.sqlite) (1.3.1)\n",
      "Note: you may need to restart the kernel to use updated packages.\n"
     ]
    }
   ],
   "source": [
    "\n",
    "%pip install langgraph.checkpoint.sqlite"
   ]
  },
  {
   "cell_type": "code",
   "execution_count": 6,
   "id": "ffe17e3a",
   "metadata": {},
   "outputs": [],
   "source": [
    "from langgraph.checkpoint.sqlite import SqliteSaver\n",
    "\n",
    "memory = SqliteSaver.from_conn_string(\":memory:\")"
   ]
  },
  {
   "cell_type": "code",
   "execution_count": 7,
   "id": "bf167260",
   "metadata": {},
   "outputs": [],
   "source": [
    "class Agent:\n",
    "    def __init__(self, model, tools, checkpointer, system=\"\"):\n",
    "        self.system = system\n",
    "        graph = StateGraph(AgentState)\n",
    "        graph.add_node(\"llm\", self.call_openai)\n",
    "        graph.add_node(\"action\", self.take_action)\n",
    "        graph.add_conditional_edges(\"llm\", self.exists_action, {True: \"action\", False: END})\n",
    "        graph.add_edge(\"action\", \"llm\")\n",
    "        graph.set_entry_point(\"llm\")\n",
    "        self.graph = graph.compile(checkpointer=checkpointer)\n",
    "        self.tools = {t.name: t for t in tools}\n",
    "        self.model = model.bind_tools(tools)\n",
    "\n",
    "    def call_openai(self, state: AgentState):\n",
    "        messages = state['messages']\n",
    "        if self.system:\n",
    "            messages = [SystemMessage(content=self.system)] + messages\n",
    "        message = self.model.invoke(messages)\n",
    "        return {'messages': [message]}\n",
    "\n",
    "    def exists_action(self, state: AgentState):\n",
    "        result = state['messages'][-1]\n",
    "        return len(result.tool_calls) > 0\n",
    "\n",
    "    def take_action(self, state: AgentState):\n",
    "        tool_calls = state['messages'][-1].tool_calls\n",
    "        results = []\n",
    "        for t in tool_calls:\n",
    "            print(f\"Calling: {t}\")\n",
    "            result = self.tools[t['name']].invoke(t['args'])\n",
    "            results.append(ToolMessage(tool_call_id=t['id'], name=t['name'], content=str(result)))\n",
    "        print(\"Back to the model!\")\n",
    "        return {'messages': results}"
   ]
  },
  {
   "cell_type": "code",
   "execution_count": 12,
   "id": "61d7897d",
   "metadata": {},
   "outputs": [],
   "source": [
    "import sqlite3\n",
    "conn = sqlite3.connect(\":memory:\", check_same_thread=False)\n",
    "checkpointer = SqliteSaver(conn)"
   ]
  },
  {
   "cell_type": "code",
   "execution_count": null,
   "id": "790e610c",
   "metadata": {},
   "outputs": [],
   "source": [
    "prompt = \"\"\"You are a smart research assistant. Use the search engine to look up information. \\\n",
    "You are allowed to make multiple calls (either together or in sequence). \\\n",
    "Only look up information when you are sure of what you want. \\\n",
    "If you need to look up some information before asking a follow up question, you are allowed to do that!\n",
    "\"\"\"\n",
    "model = ChatOpenAI(model=\"gpt-4o\")\n",
    "abot = Agent(model, [tool], system=prompt, checkpointer=checkpointer)"
   ]
  },
  {
   "cell_type": "code",
   "execution_count": 13,
   "id": "16695eb2",
   "metadata": {},
   "outputs": [],
   "source": [
    "messages = [HumanMessage(content=\"What is the weather in sf?\")]\n",
    "thread = {\"configurable\": {\"thread_id\": \"1\"}}"
   ]
  },
  {
   "cell_type": "code",
   "execution_count": 14,
   "id": "520bd3ce",
   "metadata": {},
   "outputs": [
    {
     "ename": "AttributeError",
     "evalue": "'_GeneratorContextManager' object has no attribute 'get_next_version'",
     "output_type": "error",
     "traceback": [
      "\u001b[31m---------------------------------------------------------------------------\u001b[39m",
      "\u001b[31mAttributeError\u001b[39m                            Traceback (most recent call last)",
      "\u001b[36mCell\u001b[39m\u001b[36m \u001b[39m\u001b[32mIn[14]\u001b[39m\u001b[32m, line 1\u001b[39m\n\u001b[32m----> \u001b[39m\u001b[32m1\u001b[39m \u001b[38;5;28;43;01mfor\u001b[39;49;00m\u001b[43m \u001b[49m\u001b[43mevent\u001b[49m\u001b[43m \u001b[49m\u001b[38;5;129;43;01min\u001b[39;49;00m\u001b[43m \u001b[49m\u001b[43mabot\u001b[49m\u001b[43m.\u001b[49m\u001b[43mgraph\u001b[49m\u001b[43m.\u001b[49m\u001b[43mstream\u001b[49m\u001b[43m(\u001b[49m\u001b[43m{\u001b[49m\u001b[33;43m\"\u001b[39;49m\u001b[33;43mmessages\u001b[39;49m\u001b[33;43m\"\u001b[39;49m\u001b[43m:\u001b[49m\u001b[43m \u001b[49m\u001b[43mmessages\u001b[49m\u001b[43m}\u001b[49m\u001b[43m,\u001b[49m\u001b[43m \u001b[49m\u001b[43mthread\u001b[49m\u001b[43m)\u001b[49m\u001b[43m:\u001b[49m\n\u001b[32m      2\u001b[39m \u001b[43m    \u001b[49m\u001b[38;5;28;43;01mfor\u001b[39;49;00m\u001b[43m \u001b[49m\u001b[43mv\u001b[49m\u001b[43m \u001b[49m\u001b[38;5;129;43;01min\u001b[39;49;00m\u001b[43m \u001b[49m\u001b[43mevent\u001b[49m\u001b[43m.\u001b[49m\u001b[43mvalues\u001b[49m\u001b[43m(\u001b[49m\u001b[43m)\u001b[49m\u001b[43m:\u001b[49m\n\u001b[32m      3\u001b[39m \u001b[43m        \u001b[49m\u001b[38;5;28;43mprint\u001b[39;49m\u001b[43m(\u001b[49m\u001b[43mv\u001b[49m\u001b[43m[\u001b[49m\u001b[33;43m'\u001b[39;49m\u001b[33;43mmessages\u001b[39;49m\u001b[33;43m'\u001b[39;49m\u001b[43m]\u001b[49m\u001b[43m)\u001b[49m\n",
      "\u001b[36mFile \u001b[39m\u001b[32mc:\\CodeRepositories\\2025\\DeepLearning.AI\\AI Agents in LangGraph\\.venv\\Lib\\site-packages\\langgraph\\pregel\\__init__.py:2368\u001b[39m, in \u001b[36mPregel.stream\u001b[39m\u001b[34m(self, input, config, stream_mode, output_keys, interrupt_before, interrupt_after, checkpoint_during, debug, subgraphs)\u001b[39m\n\u001b[32m   2366\u001b[39m \u001b[38;5;28;01mif\u001b[39;00m checkpoint_during \u001b[38;5;129;01mis\u001b[39;00m \u001b[38;5;129;01mnot\u001b[39;00m \u001b[38;5;28;01mNone\u001b[39;00m:\n\u001b[32m   2367\u001b[39m     config[CONF][CONFIG_KEY_CHECKPOINT_DURING] = checkpoint_during\n\u001b[32m-> \u001b[39m\u001b[32m2368\u001b[39m \u001b[38;5;28;01mwith\u001b[39;00m \u001b[43mSyncPregelLoop\u001b[49m\u001b[43m(\u001b[49m\n\u001b[32m   2369\u001b[39m \u001b[43m    \u001b[49m\u001b[38;5;28;43minput\u001b[39;49m\u001b[43m,\u001b[49m\n\u001b[32m   2370\u001b[39m \u001b[43m    \u001b[49m\u001b[43minput_model\u001b[49m\u001b[43m=\u001b[49m\u001b[38;5;28;43mself\u001b[39;49m\u001b[43m.\u001b[49m\u001b[43minput_model\u001b[49m\u001b[43m,\u001b[49m\n\u001b[32m   2371\u001b[39m \u001b[43m    \u001b[49m\u001b[43mstream\u001b[49m\u001b[43m=\u001b[49m\u001b[43mStreamProtocol\u001b[49m\u001b[43m(\u001b[49m\u001b[43mstream\u001b[49m\u001b[43m.\u001b[49m\u001b[43mput\u001b[49m\u001b[43m,\u001b[49m\u001b[43m \u001b[49m\u001b[43mstream_modes\u001b[49m\u001b[43m)\u001b[49m\u001b[43m,\u001b[49m\n\u001b[32m   2372\u001b[39m \u001b[43m    \u001b[49m\u001b[43mconfig\u001b[49m\u001b[43m=\u001b[49m\u001b[43mconfig\u001b[49m\u001b[43m,\u001b[49m\n\u001b[32m   2373\u001b[39m \u001b[43m    \u001b[49m\u001b[43mstore\u001b[49m\u001b[43m=\u001b[49m\u001b[43mstore\u001b[49m\u001b[43m,\u001b[49m\n\u001b[32m   2374\u001b[39m \u001b[43m    \u001b[49m\u001b[43mcache\u001b[49m\u001b[43m=\u001b[49m\u001b[43mcache\u001b[49m\u001b[43m,\u001b[49m\n\u001b[32m   2375\u001b[39m \u001b[43m    \u001b[49m\u001b[43mcheckpointer\u001b[49m\u001b[43m=\u001b[49m\u001b[43mcheckpointer\u001b[49m\u001b[43m,\u001b[49m\n\u001b[32m   2376\u001b[39m \u001b[43m    \u001b[49m\u001b[43mnodes\u001b[49m\u001b[43m=\u001b[49m\u001b[38;5;28;43mself\u001b[39;49m\u001b[43m.\u001b[49m\u001b[43mnodes\u001b[49m\u001b[43m,\u001b[49m\n\u001b[32m   2377\u001b[39m \u001b[43m    \u001b[49m\u001b[43mspecs\u001b[49m\u001b[43m=\u001b[49m\u001b[38;5;28;43mself\u001b[39;49m\u001b[43m.\u001b[49m\u001b[43mchannels\u001b[49m\u001b[43m,\u001b[49m\n\u001b[32m   2378\u001b[39m \u001b[43m    \u001b[49m\u001b[43moutput_keys\u001b[49m\u001b[43m=\u001b[49m\u001b[43moutput_keys\u001b[49m\u001b[43m,\u001b[49m\n\u001b[32m   2379\u001b[39m \u001b[43m    \u001b[49m\u001b[43mstream_keys\u001b[49m\u001b[43m=\u001b[49m\u001b[38;5;28;43mself\u001b[39;49m\u001b[43m.\u001b[49m\u001b[43mstream_channels_asis\u001b[49m\u001b[43m,\u001b[49m\n\u001b[32m   2380\u001b[39m \u001b[43m    \u001b[49m\u001b[43minterrupt_before\u001b[49m\u001b[43m=\u001b[49m\u001b[43minterrupt_before_\u001b[49m\u001b[43m,\u001b[49m\n\u001b[32m   2381\u001b[39m \u001b[43m    \u001b[49m\u001b[43minterrupt_after\u001b[49m\u001b[43m=\u001b[49m\u001b[43minterrupt_after_\u001b[49m\u001b[43m,\u001b[49m\n\u001b[32m   2382\u001b[39m \u001b[43m    \u001b[49m\u001b[43mmanager\u001b[49m\u001b[43m=\u001b[49m\u001b[43mrun_manager\u001b[49m\u001b[43m,\u001b[49m\n\u001b[32m   2383\u001b[39m \u001b[43m    \u001b[49m\u001b[43mdebug\u001b[49m\u001b[43m=\u001b[49m\u001b[43mdebug\u001b[49m\u001b[43m,\u001b[49m\n\u001b[32m   2384\u001b[39m \u001b[43m    \u001b[49m\u001b[43mcheckpoint_during\u001b[49m\u001b[43m=\u001b[49m\u001b[43mcheckpoint_during\u001b[49m\n\u001b[32m   2385\u001b[39m \u001b[43m    \u001b[49m\u001b[38;5;28;43;01mif\u001b[39;49;00m\u001b[43m \u001b[49m\u001b[43mcheckpoint_during\u001b[49m\u001b[43m \u001b[49m\u001b[38;5;129;43;01mis\u001b[39;49;00m\u001b[43m \u001b[49m\u001b[38;5;129;43;01mnot\u001b[39;49;00m\u001b[43m \u001b[49m\u001b[38;5;28;43;01mNone\u001b[39;49;00m\n\u001b[32m   2386\u001b[39m \u001b[43m    \u001b[49m\u001b[38;5;28;43;01melse\u001b[39;49;00m\u001b[43m \u001b[49m\u001b[43mconfig\u001b[49m\u001b[43m[\u001b[49m\u001b[43mCONF\u001b[49m\u001b[43m]\u001b[49m\u001b[43m.\u001b[49m\u001b[43mget\u001b[49m\u001b[43m(\u001b[49m\u001b[43mCONFIG_KEY_CHECKPOINT_DURING\u001b[49m\u001b[43m,\u001b[49m\u001b[43m \u001b[49m\u001b[38;5;28;43;01mTrue\u001b[39;49;00m\u001b[43m)\u001b[49m\u001b[43m,\u001b[49m\n\u001b[32m   2387\u001b[39m \u001b[43m    \u001b[49m\u001b[43mtrigger_to_nodes\u001b[49m\u001b[43m=\u001b[49m\u001b[38;5;28;43mself\u001b[39;49m\u001b[43m.\u001b[49m\u001b[43mtrigger_to_nodes\u001b[49m\u001b[43m,\u001b[49m\n\u001b[32m   2388\u001b[39m \u001b[43m    \u001b[49m\u001b[43mmigrate_checkpoint\u001b[49m\u001b[43m=\u001b[49m\u001b[38;5;28;43mself\u001b[39;49m\u001b[43m.\u001b[49m\u001b[43m_migrate_checkpoint\u001b[49m\u001b[43m,\u001b[49m\n\u001b[32m   2389\u001b[39m \u001b[43m    \u001b[49m\u001b[43mretry_policy\u001b[49m\u001b[43m=\u001b[49m\u001b[38;5;28;43mself\u001b[39;49m\u001b[43m.\u001b[49m\u001b[43mretry_policy\u001b[49m\u001b[43m,\u001b[49m\n\u001b[32m   2390\u001b[39m \u001b[43m    \u001b[49m\u001b[43mcache_policy\u001b[49m\u001b[43m=\u001b[49m\u001b[38;5;28;43mself\u001b[39;49m\u001b[43m.\u001b[49m\u001b[43mcache_policy\u001b[49m\u001b[43m,\u001b[49m\n\u001b[32m   2391\u001b[39m \u001b[43m\u001b[49m\u001b[43m)\u001b[49m \u001b[38;5;28;01mas\u001b[39;00m loop:\n\u001b[32m   2392\u001b[39m     \u001b[38;5;66;03m# create runner\u001b[39;00m\n\u001b[32m   2393\u001b[39m     runner = PregelRunner(\n\u001b[32m   2394\u001b[39m         submit=config[CONF].get(\n\u001b[32m   2395\u001b[39m             CONFIG_KEY_RUNNER_SUBMIT, weakref.WeakMethod(loop.submit)\n\u001b[32m   (...)\u001b[39m\u001b[32m   2398\u001b[39m         node_finished=config[CONF].get(CONFIG_KEY_NODE_FINISHED),\n\u001b[32m   2399\u001b[39m     )\n\u001b[32m   2400\u001b[39m     \u001b[38;5;66;03m# enable subgraph streaming\u001b[39;00m\n",
      "\u001b[36mFile \u001b[39m\u001b[32mc:\\CodeRepositories\\2025\\DeepLearning.AI\\AI Agents in LangGraph\\.venv\\Lib\\site-packages\\langgraph\\pregel\\loop.py:1041\u001b[39m, in \u001b[36mSyncPregelLoop.__init__\u001b[39m\u001b[34m(self, input, stream, config, store, cache, checkpointer, nodes, specs, trigger_to_nodes, manager, interrupt_after, interrupt_before, output_keys, stream_keys, input_model, debug, migrate_checkpoint, retry_policy, cache_policy, checkpoint_during)\u001b[39m\n\u001b[32m   1039\u001b[39m \u001b[38;5;28mself\u001b[39m.stack = ExitStack()\n\u001b[32m   1040\u001b[39m \u001b[38;5;28;01mif\u001b[39;00m checkpointer:\n\u001b[32m-> \u001b[39m\u001b[32m1041\u001b[39m     \u001b[38;5;28mself\u001b[39m.checkpointer_get_next_version = \u001b[43mcheckpointer\u001b[49m\u001b[43m.\u001b[49m\u001b[43mget_next_version\u001b[49m\n\u001b[32m   1042\u001b[39m     \u001b[38;5;28mself\u001b[39m.checkpointer_put_writes = checkpointer.put_writes\n\u001b[32m   1043\u001b[39m     \u001b[38;5;28mself\u001b[39m.checkpointer_put_writes_accepts_task_path = (\n\u001b[32m   1044\u001b[39m         signature(checkpointer.put_writes).parameters.get(\u001b[33m\"\u001b[39m\u001b[33mtask_path\u001b[39m\u001b[33m\"\u001b[39m)\n\u001b[32m   1045\u001b[39m         \u001b[38;5;129;01mis\u001b[39;00m \u001b[38;5;129;01mnot\u001b[39;00m \u001b[38;5;28;01mNone\u001b[39;00m\n\u001b[32m   1046\u001b[39m     )\n",
      "\u001b[31mAttributeError\u001b[39m: '_GeneratorContextManager' object has no attribute 'get_next_version'"
     ]
    }
   ],
   "source": [
    "for event in abot.graph.stream({\"messages\": messages}, thread):\n",
    "    for v in event.values():\n",
    "        print(v['messages'])"
   ]
  },
  {
   "cell_type": "code",
   "execution_count": 1,
   "id": "ef939f60",
   "metadata": {},
   "outputs": [
    {
     "ename": "NameError",
     "evalue": "name 'abot' is not defined",
     "output_type": "error",
     "traceback": [
      "\u001b[31m---------------------------------------------------------------------------\u001b[39m",
      "\u001b[31mNameError\u001b[39m                                 Traceback (most recent call last)",
      "\u001b[36mCell\u001b[39m\u001b[36m \u001b[39m\u001b[32mIn[1]\u001b[39m\u001b[32m, line 1\u001b[39m\n\u001b[32m----> \u001b[39m\u001b[32m1\u001b[39m \u001b[38;5;28;01mfor\u001b[39;00m event \u001b[38;5;129;01min\u001b[39;00m \u001b[43mabot\u001b[49m.graph.stream({\u001b[33m\"\u001b[39m\u001b[33mmessages\u001b[39m\u001b[33m\"\u001b[39m: messages}, thread):\n\u001b[32m      2\u001b[39m     \u001b[38;5;28;01mfor\u001b[39;00m v \u001b[38;5;129;01min\u001b[39;00m event.values():\n\u001b[32m      3\u001b[39m         \u001b[38;5;28mprint\u001b[39m(v[\u001b[33m'\u001b[39m\u001b[33mmessages\u001b[39m\u001b[33m'\u001b[39m])\n",
      "\u001b[31mNameError\u001b[39m: name 'abot' is not defined"
     ]
    }
   ],
   "source": [
    "for event in abot.graph.stream({\"messages\": messages}, thread):\n",
    "    for v in event.values():\n",
    "        print(v['messages'])"
   ]
  },
  {
   "cell_type": "code",
   "execution_count": 23,
   "id": "4fedf694",
   "metadata": {},
   "outputs": [
    {
     "name": "stdout",
     "output_type": "stream",
     "text": [
      "Requirement already satisfied: langgraph.checkpoint in c:\\coderepositories\\2025\\deeplearning.ai\\ai agents in langgraph\\.venv\\lib\\site-packages (2.0.26)\n",
      "Requirement already satisfied: langchain-core>=0.2.38 in c:\\coderepositories\\2025\\deeplearning.ai\\ai agents in langgraph\\.venv\\lib\\site-packages (from langgraph.checkpoint) (0.3.61)\n",
      "Requirement already satisfied: ormsgpack<2.0.0,>=1.8.0 in c:\\coderepositories\\2025\\deeplearning.ai\\ai agents in langgraph\\.venv\\lib\\site-packages (from langgraph.checkpoint) (1.10.0)\n",
      "Requirement already satisfied: langsmith<0.4,>=0.1.126 in c:\\coderepositories\\2025\\deeplearning.ai\\ai agents in langgraph\\.venv\\lib\\site-packages (from langchain-core>=0.2.38->langgraph.checkpoint) (0.3.42)\n",
      "Requirement already satisfied: tenacity!=8.4.0,<10.0.0,>=8.1.0 in c:\\coderepositories\\2025\\deeplearning.ai\\ai agents in langgraph\\.venv\\lib\\site-packages (from langchain-core>=0.2.38->langgraph.checkpoint) (9.1.2)\n",
      "Requirement already satisfied: jsonpatch<2.0,>=1.33 in c:\\coderepositories\\2025\\deeplearning.ai\\ai agents in langgraph\\.venv\\lib\\site-packages (from langchain-core>=0.2.38->langgraph.checkpoint) (1.33)\n",
      "Requirement already satisfied: PyYAML>=5.3 in c:\\coderepositories\\2025\\deeplearning.ai\\ai agents in langgraph\\.venv\\lib\\site-packages (from langchain-core>=0.2.38->langgraph.checkpoint) (6.0.2)\n",
      "Requirement already satisfied: packaging<25,>=23.2 in c:\\coderepositories\\2025\\deeplearning.ai\\ai agents in langgraph\\.venv\\lib\\site-packages (from langchain-core>=0.2.38->langgraph.checkpoint) (24.2)\n",
      "Requirement already satisfied: typing-extensions>=4.7 in c:\\coderepositories\\2025\\deeplearning.ai\\ai agents in langgraph\\.venv\\lib\\site-packages (from langchain-core>=0.2.38->langgraph.checkpoint) (4.13.2)\n",
      "Requirement already satisfied: pydantic>=2.7.4 in c:\\coderepositories\\2025\\deeplearning.ai\\ai agents in langgraph\\.venv\\lib\\site-packages (from langchain-core>=0.2.38->langgraph.checkpoint) (2.11.4)\n",
      "Requirement already satisfied: jsonpointer>=1.9 in c:\\coderepositories\\2025\\deeplearning.ai\\ai agents in langgraph\\.venv\\lib\\site-packages (from jsonpatch<2.0,>=1.33->langchain-core>=0.2.38->langgraph.checkpoint) (3.0.0)\n",
      "Requirement already satisfied: httpx<1,>=0.23.0 in c:\\coderepositories\\2025\\deeplearning.ai\\ai agents in langgraph\\.venv\\lib\\site-packages (from langsmith<0.4,>=0.1.126->langchain-core>=0.2.38->langgraph.checkpoint) (0.28.1)\n",
      "Requirement already satisfied: orjson<4.0.0,>=3.9.14 in c:\\coderepositories\\2025\\deeplearning.ai\\ai agents in langgraph\\.venv\\lib\\site-packages (from langsmith<0.4,>=0.1.126->langchain-core>=0.2.38->langgraph.checkpoint) (3.10.18)\n",
      "Requirement already satisfied: requests<3,>=2 in c:\\coderepositories\\2025\\deeplearning.ai\\ai agents in langgraph\\.venv\\lib\\site-packages (from langsmith<0.4,>=0.1.126->langchain-core>=0.2.38->langgraph.checkpoint) (2.32.3)\n",
      "Requirement already satisfied: requests-toolbelt<2.0.0,>=1.0.0 in c:\\coderepositories\\2025\\deeplearning.ai\\ai agents in langgraph\\.venv\\lib\\site-packages (from langsmith<0.4,>=0.1.126->langchain-core>=0.2.38->langgraph.checkpoint) (1.0.0)\n",
      "Requirement already satisfied: zstandard<0.24.0,>=0.23.0 in c:\\coderepositories\\2025\\deeplearning.ai\\ai agents in langgraph\\.venv\\lib\\site-packages (from langsmith<0.4,>=0.1.126->langchain-core>=0.2.38->langgraph.checkpoint) (0.23.0)\n",
      "Requirement already satisfied: anyio in c:\\coderepositories\\2025\\deeplearning.ai\\ai agents in langgraph\\.venv\\lib\\site-packages (from httpx<1,>=0.23.0->langsmith<0.4,>=0.1.126->langchain-core>=0.2.38->langgraph.checkpoint) (4.9.0)\n",
      "Requirement already satisfied: certifi in c:\\coderepositories\\2025\\deeplearning.ai\\ai agents in langgraph\\.venv\\lib\\site-packages (from httpx<1,>=0.23.0->langsmith<0.4,>=0.1.126->langchain-core>=0.2.38->langgraph.checkpoint) (2025.4.26)\n",
      "Requirement already satisfied: httpcore==1.* in c:\\coderepositories\\2025\\deeplearning.ai\\ai agents in langgraph\\.venv\\lib\\site-packages (from httpx<1,>=0.23.0->langsmith<0.4,>=0.1.126->langchain-core>=0.2.38->langgraph.checkpoint) (1.0.9)\n",
      "Requirement already satisfied: idna in c:\\coderepositories\\2025\\deeplearning.ai\\ai agents in langgraph\\.venv\\lib\\site-packages (from httpx<1,>=0.23.0->langsmith<0.4,>=0.1.126->langchain-core>=0.2.38->langgraph.checkpoint) (3.10)\n",
      "Requirement already satisfied: h11>=0.16 in c:\\coderepositories\\2025\\deeplearning.ai\\ai agents in langgraph\\.venv\\lib\\site-packages (from httpcore==1.*->httpx<1,>=0.23.0->langsmith<0.4,>=0.1.126->langchain-core>=0.2.38->langgraph.checkpoint) (0.16.0)\n",
      "Requirement already satisfied: annotated-types>=0.6.0 in c:\\coderepositories\\2025\\deeplearning.ai\\ai agents in langgraph\\.venv\\lib\\site-packages (from pydantic>=2.7.4->langchain-core>=0.2.38->langgraph.checkpoint) (0.7.0)\n",
      "Requirement already satisfied: pydantic-core==2.33.2 in c:\\coderepositories\\2025\\deeplearning.ai\\ai agents in langgraph\\.venv\\lib\\site-packages (from pydantic>=2.7.4->langchain-core>=0.2.38->langgraph.checkpoint) (2.33.2)\n",
      "Requirement already satisfied: typing-inspection>=0.4.0 in c:\\coderepositories\\2025\\deeplearning.ai\\ai agents in langgraph\\.venv\\lib\\site-packages (from pydantic>=2.7.4->langchain-core>=0.2.38->langgraph.checkpoint) (0.4.0)\n",
      "Requirement already satisfied: charset-normalizer<4,>=2 in c:\\coderepositories\\2025\\deeplearning.ai\\ai agents in langgraph\\.venv\\lib\\site-packages (from requests<3,>=2->langsmith<0.4,>=0.1.126->langchain-core>=0.2.38->langgraph.checkpoint) (3.4.2)\n",
      "Requirement already satisfied: urllib3<3,>=1.21.1 in c:\\coderepositories\\2025\\deeplearning.ai\\ai agents in langgraph\\.venv\\lib\\site-packages (from requests<3,>=2->langsmith<0.4,>=0.1.126->langchain-core>=0.2.38->langgraph.checkpoint) (2.4.0)\n",
      "Requirement already satisfied: sniffio>=1.1 in c:\\coderepositories\\2025\\deeplearning.ai\\ai agents in langgraph\\.venv\\lib\\site-packages (from anyio->httpx<1,>=0.23.0->langsmith<0.4,>=0.1.126->langchain-core>=0.2.38->langgraph.checkpoint) (1.3.1)\n",
      "Note: you may need to restart the kernel to use updated packages.\n"
     ]
    }
   ],
   "source": [
    "%pip install langgraph.checkpoint"
   ]
  },
  {
   "cell_type": "code",
   "execution_count": 25,
   "id": "084a4c8d",
   "metadata": {},
   "outputs": [
    {
     "name": "stdout",
     "output_type": "stream",
     "text": [
      "Note: you may need to restart the kernel to use updated packages.\n"
     ]
    },
    {
     "name": "stderr",
     "output_type": "stream",
     "text": [
      "ERROR: Could not find a version that satisfies the requirement langgraph.checkpoint.aiosqlite (from versions: none)\n",
      "ERROR: No matching distribution found for langgraph.checkpoint.aiosqlite\n",
      "\n",
      "KeyboardInterrupt\n",
      "\n"
     ]
    }
   ],
   "source": [
    "%pip install langgraph.checkpoint.aiosqlite\n",
    "from langgraph.checkpoint.aiosqlite import AsyncSqliteSaver\n",
    "\n",
    "memory = AsyncSqliteSaver.from_conn_string(\":memory:\")\n",
    "abot = Agent(model, [tool], system=prompt, checkpointer=memory)"
   ]
  },
  {
   "cell_type": "code",
   "execution_count": null,
   "id": "7bfda0eb",
   "metadata": {},
   "outputs": [],
   "source": [
    "messages = [HumanMessage(content=\"What is the weather in SF?\")]\n",
    "thread = {\"configurable\": {\"thread_id\": \"4\"}}\n",
    "async for event in abot.graph.astream_events({\"messages\": messages}, thread, version=\"v1\"):\n",
    "    kind = event[\"event\"]\n",
    "    if kind == \"on_chat_model_stream\":\n",
    "        content = event[\"data\"][\"chunk\"].content\n",
    "        if content:\n",
    "            # Empty content in the context of OpenAI means\n",
    "            # that the model is asking for a tool to be invoked.\n",
    "            # So we only print non-empty content\n",
    "            print(content, end=\"|\")"
   ]
  }
 ],
 "metadata": {
  "kernelspec": {
   "display_name": ".venv",
   "language": "python",
   "name": "python3"
  },
  "language_info": {
   "codemirror_mode": {
    "name": "ipython",
    "version": 3
   },
   "file_extension": ".py",
   "mimetype": "text/x-python",
   "name": "python",
   "nbconvert_exporter": "python",
   "pygments_lexer": "ipython3",
   "version": "3.13.3"
  }
 },
 "nbformat": 4,
 "nbformat_minor": 5
}
