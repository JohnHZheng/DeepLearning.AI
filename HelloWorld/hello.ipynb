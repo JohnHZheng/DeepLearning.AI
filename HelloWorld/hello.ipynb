{
 "cells": [
  {
   "cell_type": "code",
   "execution_count": 29,
   "id": "9efc2f05",
   "metadata": {},
   "outputs": [
    {
     "name": "stdout",
     "output_type": "stream",
     "text": [
      "hello world\n"
     ]
    }
   ],
   "source": [
    "print(\"hello world\")"
   ]
  },
  {
   "cell_type": "code",
   "execution_count": 4,
   "id": "96972e40",
   "metadata": {},
   "outputs": [
    {
     "name": "stdout",
     "output_type": "stream",
     "text": [
      "Collecting openai\n",
      "  Downloading openai-1.79.0-py3-none-any.whl.metadata (25 kB)\n",
      "Collecting anyio<5,>=3.5.0 (from openai)\n",
      "  Downloading anyio-4.9.0-py3-none-any.whl.metadata (4.7 kB)\n",
      "Collecting distro<2,>=1.7.0 (from openai)\n",
      "  Downloading distro-1.9.0-py3-none-any.whl.metadata (6.8 kB)\n",
      "Collecting httpx<1,>=0.23.0 (from openai)\n",
      "  Downloading httpx-0.28.1-py3-none-any.whl.metadata (7.1 kB)\n",
      "Collecting jiter<1,>=0.4.0 (from openai)\n",
      "  Downloading jiter-0.10.0-cp313-cp313-win_amd64.whl.metadata (5.3 kB)\n",
      "Collecting pydantic<3,>=1.9.0 (from openai)\n",
      "  Downloading pydantic-2.11.4-py3-none-any.whl.metadata (66 kB)\n",
      "Collecting sniffio (from openai)\n",
      "  Downloading sniffio-1.3.1-py3-none-any.whl.metadata (3.9 kB)\n",
      "Collecting tqdm>4 (from openai)\n",
      "  Downloading tqdm-4.67.1-py3-none-any.whl.metadata (57 kB)\n",
      "Collecting typing-extensions<5,>=4.11 (from openai)\n",
      "  Downloading typing_extensions-4.13.2-py3-none-any.whl.metadata (3.0 kB)\n",
      "Collecting idna>=2.8 (from anyio<5,>=3.5.0->openai)\n",
      "  Using cached idna-3.10-py3-none-any.whl.metadata (10 kB)\n",
      "Collecting certifi (from httpx<1,>=0.23.0->openai)\n",
      "  Using cached certifi-2025.4.26-py3-none-any.whl.metadata (2.5 kB)\n",
      "Collecting httpcore==1.* (from httpx<1,>=0.23.0->openai)\n",
      "  Downloading httpcore-1.0.9-py3-none-any.whl.metadata (21 kB)\n",
      "Collecting h11>=0.16 (from httpcore==1.*->httpx<1,>=0.23.0->openai)\n",
      "  Downloading h11-0.16.0-py3-none-any.whl.metadata (8.3 kB)\n",
      "Collecting annotated-types>=0.6.0 (from pydantic<3,>=1.9.0->openai)\n",
      "  Downloading annotated_types-0.7.0-py3-none-any.whl.metadata (15 kB)\n",
      "Collecting pydantic-core==2.33.2 (from pydantic<3,>=1.9.0->openai)\n",
      "  Downloading pydantic_core-2.33.2-cp313-cp313-win_amd64.whl.metadata (6.9 kB)\n",
      "Collecting typing-inspection>=0.4.0 (from pydantic<3,>=1.9.0->openai)\n",
      "  Downloading typing_inspection-0.4.0-py3-none-any.whl.metadata (2.6 kB)\n",
      "Requirement already satisfied: colorama in c:\\coderepositories\\2025\\deeplearning.ai\\helloworld\\.venv\\lib\\site-packages (from tqdm>4->openai) (0.4.6)\n",
      "Downloading openai-1.79.0-py3-none-any.whl (683 kB)\n",
      "   ---------------------------------------- 0.0/683.3 kB ? eta -:--:--\n",
      "   --------------------------------------- 683.3/683.3 kB 37.1 MB/s eta 0:00:00\n",
      "Downloading anyio-4.9.0-py3-none-any.whl (100 kB)\n",
      "Downloading distro-1.9.0-py3-none-any.whl (20 kB)\n",
      "Downloading httpx-0.28.1-py3-none-any.whl (73 kB)\n",
      "Downloading httpcore-1.0.9-py3-none-any.whl (78 kB)\n",
      "Downloading jiter-0.10.0-cp313-cp313-win_amd64.whl (205 kB)\n",
      "Downloading pydantic-2.11.4-py3-none-any.whl (443 kB)\n",
      "Downloading pydantic_core-2.33.2-cp313-cp313-win_amd64.whl (2.0 MB)\n",
      "   ---------------------------------------- 0.0/2.0 MB ? eta -:--:--\n",
      "   ---------------------------------------- 2.0/2.0 MB 30.0 MB/s eta 0:00:00\n",
      "Downloading typing_extensions-4.13.2-py3-none-any.whl (45 kB)\n",
      "Downloading annotated_types-0.7.0-py3-none-any.whl (13 kB)\n",
      "Downloading h11-0.16.0-py3-none-any.whl (37 kB)\n",
      "Using cached idna-3.10-py3-none-any.whl (70 kB)\n",
      "Downloading sniffio-1.3.1-py3-none-any.whl (10 kB)\n",
      "Downloading tqdm-4.67.1-py3-none-any.whl (78 kB)\n",
      "Downloading typing_inspection-0.4.0-py3-none-any.whl (14 kB)\n",
      "Using cached certifi-2025.4.26-py3-none-any.whl (159 kB)\n",
      "Installing collected packages: typing-extensions, tqdm, sniffio, jiter, idna, h11, distro, certifi, annotated-types, typing-inspection, pydantic-core, httpcore, anyio, pydantic, httpx, openai\n",
      "\n",
      "   -- -------------------------------------  1/16 [tqdm]\n",
      "   -- -------------------------------------  1/16 [tqdm]\n",
      "   -- -------------------------------------  1/16 [tqdm]\n",
      "   -- -------------------------------------  1/16 [tqdm]\n",
      "   ----- ----------------------------------  2/16 [sniffio]\n",
      "   ---------- -----------------------------  4/16 [idna]\n",
      "   ------------ ---------------------------  5/16 [h11]\n",
      "   ------------ ---------------------------  5/16 [h11]\n",
      "   --------------- ------------------------  6/16 [distro]\n",
      "   ---------------------- -----------------  9/16 [typing-inspection]\n",
      "   --------------------------- ------------ 11/16 [httpcore]\n",
      "   --------------------------- ------------ 11/16 [httpcore]\n",
      "   --------------------------- ------------ 11/16 [httpcore]\n",
      "   --------------------------- ------------ 11/16 [httpcore]\n",
      "   ------------------------------ --------- 12/16 [anyio]\n",
      "   ------------------------------ --------- 12/16 [anyio]\n",
      "   ------------------------------ --------- 12/16 [anyio]\n",
      "   ------------------------------ --------- 12/16 [anyio]\n",
      "   -------------------------------- ------- 13/16 [pydantic]\n",
      "   -------------------------------- ------- 13/16 [pydantic]\n",
      "   -------------------------------- ------- 13/16 [pydantic]\n",
      "   -------------------------------- ------- 13/16 [pydantic]\n",
      "   -------------------------------- ------- 13/16 [pydantic]\n",
      "   -------------------------------- ------- 13/16 [pydantic]\n",
      "   -------------------------------- ------- 13/16 [pydantic]\n",
      "   -------------------------------- ------- 13/16 [pydantic]\n",
      "   -------------------------------- ------- 13/16 [pydantic]\n",
      "   -------------------------------- ------- 13/16 [pydantic]\n",
      "   -------------------------------- ------- 13/16 [pydantic]\n",
      "   ----------------------------------- ---- 14/16 [httpx]\n",
      "   ----------------------------------- ---- 14/16 [httpx]\n",
      "   ----------------------------------- ---- 14/16 [httpx]\n",
      "   ----------------------------------- ---- 14/16 [httpx]\n",
      "   ------------------------------------- -- 15/16 [openai]\n",
      "   ------------------------------------- -- 15/16 [openai]\n",
      "   ------------------------------------- -- 15/16 [openai]\n",
      "   ------------------------------------- -- 15/16 [openai]\n",
      "   ------------------------------------- -- 15/16 [openai]\n",
      "   ------------------------------------- -- 15/16 [openai]\n",
      "   ------------------------------------- -- 15/16 [openai]\n",
      "   ------------------------------------- -- 15/16 [openai]\n",
      "   ------------------------------------- -- 15/16 [openai]\n",
      "   ------------------------------------- -- 15/16 [openai]\n",
      "   ------------------------------------- -- 15/16 [openai]\n",
      "   ------------------------------------- -- 15/16 [openai]\n",
      "   ------------------------------------- -- 15/16 [openai]\n",
      "   ------------------------------------- -- 15/16 [openai]\n",
      "   ------------------------------------- -- 15/16 [openai]\n",
      "   ------------------------------------- -- 15/16 [openai]\n",
      "   ------------------------------------- -- 15/16 [openai]\n",
      "   ------------------------------------- -- 15/16 [openai]\n",
      "   ------------------------------------- -- 15/16 [openai]\n",
      "   ------------------------------------- -- 15/16 [openai]\n",
      "   ------------------------------------- -- 15/16 [openai]\n",
      "   ------------------------------------- -- 15/16 [openai]\n",
      "   ------------------------------------- -- 15/16 [openai]\n",
      "   ------------------------------------- -- 15/16 [openai]\n",
      "   ------------------------------------- -- 15/16 [openai]\n",
      "   ------------------------------------- -- 15/16 [openai]\n",
      "   ------------------------------------- -- 15/16 [openai]\n",
      "   ------------------------------------- -- 15/16 [openai]\n",
      "   ------------------------------------- -- 15/16 [openai]\n",
      "   ------------------------------------- -- 15/16 [openai]\n",
      "   ------------------------------------- -- 15/16 [openai]\n",
      "   ------------------------------------- -- 15/16 [openai]\n",
      "   ------------------------------------- -- 15/16 [openai]\n",
      "   ------------------------------------- -- 15/16 [openai]\n",
      "   ------------------------------------- -- 15/16 [openai]\n",
      "   ------------------------------------- -- 15/16 [openai]\n",
      "   ------------------------------------- -- 15/16 [openai]\n",
      "   ------------------------------------- -- 15/16 [openai]\n",
      "   ------------------------------------- -- 15/16 [openai]\n",
      "   ------------------------------------- -- 15/16 [openai]\n",
      "   ------------------------------------- -- 15/16 [openai]\n",
      "   ------------------------------------- -- 15/16 [openai]\n",
      "   ------------------------------------- -- 15/16 [openai]\n",
      "   ------------------------------------- -- 15/16 [openai]\n",
      "   ------------------------------------- -- 15/16 [openai]\n",
      "   ------------------------------------- -- 15/16 [openai]\n",
      "   ------------------------------------- -- 15/16 [openai]\n",
      "   ------------------------------------- -- 15/16 [openai]\n",
      "   ------------------------------------- -- 15/16 [openai]\n",
      "   ------------------------------------- -- 15/16 [openai]\n",
      "   ------------------------------------- -- 15/16 [openai]\n",
      "   ------------------------------------- -- 15/16 [openai]\n",
      "   ---------------------------------------- 16/16 [openai]\n",
      "\n",
      "Successfully installed annotated-types-0.7.0 anyio-4.9.0 certifi-2025.4.26 distro-1.9.0 h11-0.16.0 httpcore-1.0.9 httpx-0.28.1 idna-3.10 jiter-0.10.0 openai-1.79.0 pydantic-2.11.4 pydantic-core-2.33.2 sniffio-1.3.1 tqdm-4.67.1 typing-extensions-4.13.2 typing-inspection-0.4.0\n",
      "Note: you may need to restart the kernel to use updated packages.\n"
     ]
    }
   ],
   "source": [
    "%pip install openai\n",
    "\n",
    "\n"
   ]
  },
  {
   "cell_type": "code",
   "execution_count": 5,
   "id": "fea32c2b",
   "metadata": {},
   "outputs": [
    {
     "name": "stdout",
     "output_type": "stream",
     "text": [
      "Collecting dotenv\n",
      "  Downloading dotenv-0.9.9-py2.py3-none-any.whl.metadata (279 bytes)\n",
      "Collecting python-dotenv (from dotenv)\n",
      "  Downloading python_dotenv-1.1.0-py3-none-any.whl.metadata (24 kB)\n",
      "Downloading dotenv-0.9.9-py2.py3-none-any.whl (1.9 kB)\n",
      "Downloading python_dotenv-1.1.0-py3-none-any.whl (20 kB)\n",
      "Installing collected packages: python-dotenv, dotenv\n",
      "\n",
      "   ---------------------------------------- 0/2 [python-dotenv]\n",
      "   ---------------------------------------- 2/2 [dotenv]\n",
      "\n",
      "Successfully installed dotenv-0.9.9 python-dotenv-1.1.0\n",
      "Note: you may need to restart the kernel to use updated packages.\n"
     ]
    }
   ],
   "source": [
    "%pip install dotenv\n"
   ]
  },
  {
   "cell_type": "code",
   "execution_count": 11,
   "id": "069fe28c",
   "metadata": {},
   "outputs": [
    {
     "name": "stdout",
     "output_type": "stream",
     "text": [
      "Note: you may need to restart the kernel to use updated packages.\n"
     ]
    }
   ],
   "source": [
    "%pip freeze > requirements.txt\n"
   ]
  },
  {
   "cell_type": "code",
   "execution_count": 33,
   "id": "501800d5",
   "metadata": {},
   "outputs": [],
   "source": [
    "import os\n",
    "from openai import OpenAI\n",
    "\n",
    "from dotenv import load_dotenv, find_dotenv\n",
    "_ = load_dotenv(find_dotenv()) # read local .env file\n",
    "openai_api_key = os.environ.get('OPENAI_API_KEY')\n",
    "if not openai_api_key:\n",
    "\traise ValueError(\"OPENAI_API_KEY not found in environment variables. Please set it in your .env file.\")\n",
    "\n",
    "client = OpenAI(\n",
    "  api_key=openai_api_key,  # this is also the default, it can be omitted\n",
    ")"
   ]
  },
  {
   "cell_type": "code",
   "execution_count": 7,
   "id": "fc602a31",
   "metadata": {},
   "outputs": [
    {
     "name": "stdout",
     "output_type": "stream",
     "text": [
      "Hello, John! How can I assist you today?\n"
     ]
    }
   ],
   "source": [
    "messages = [\n",
    "    {\n",
    "        \"role\": \"user\",\n",
    "        \"content\": \"Hi, my name is John\"\n",
    "    }\n",
    "]\n",
    "\n",
    "response = client.chat.completions.create(\n",
    "    model=\"gpt-4o\",\n",
    "    messages=messages,\n",
    "    temperature=0.7,\n",
    "    max_tokens=100\n",
    ")\n",
    "print(response.choices[0].message.content)"
   ]
  },
  {
   "cell_type": "code",
   "execution_count": 8,
   "id": "bfc22845",
   "metadata": {},
   "outputs": [
    {
     "name": "stdout",
     "output_type": "stream",
     "text": [
      "Under the twinkling stars, a gentle unicorn tiptoed through a moonlit meadow, gathering dreams to sprinkle over sleeping children.\n"
     ]
    }
   ],
   "source": [
    "from openai import OpenAI\n",
    "client = OpenAI()\n",
    "\n",
    "completion = client.chat.completions.create(\n",
    "    model=\"gpt-4.1\",\n",
    "    messages=[\n",
    "        {\n",
    "            \"role\": \"user\",\n",
    "            \"content\": \"Write a one-sentence bedtime story about a unicorn.\"\n",
    "        }\n",
    "    ]\n",
    ")\n",
    "\n",
    "print(completion.choices[0].message.content)"
   ]
  }
 ],
 "metadata": {
  "kernelspec": {
   "display_name": ".venv",
   "language": "python",
   "name": "python3"
  },
  "language_info": {
   "codemirror_mode": {
    "name": "ipython",
    "version": 3
   },
   "file_extension": ".py",
   "mimetype": "text/x-python",
   "name": "python",
   "nbconvert_exporter": "python",
   "pygments_lexer": "ipython3",
   "version": "3.13.3"
  }
 },
 "nbformat": 4,
 "nbformat_minor": 5
}
